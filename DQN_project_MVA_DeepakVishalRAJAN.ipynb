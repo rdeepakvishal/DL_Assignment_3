{
 "cells": [
  {
   "cell_type": "markdown",
   "metadata": {},
   "source": [
    "**You may need to install [OpenCV](https://pypi.python.org/pypi/opencv-python) and [scikit-video](http://www.scikit-video.org/stable/).**"
   ]
  },
  {
   "cell_type": "code",
   "execution_count": 32,
   "metadata": {},
   "outputs": [],
   "source": [
    "import keras\n",
    "import numpy as np\n",
    "import io\n",
    "import base64\n",
    "from IPython.display import HTML\n",
    "import skvideo.io\n",
    "import cv2\n",
    "import json\n",
    "\n",
    "import random\n",
    "\n",
    "from keras.models import Sequential,model_from_json\n",
    "from keras.layers.core import Dense\n",
    "from keras.optimizers import sgd, Adam\n",
    "from keras.layers import Conv2D, MaxPooling2D, Activation, AveragePooling2D,Reshape,BatchNormalization"
   ]
  },
  {
   "cell_type": "markdown",
   "metadata": {},
   "source": [
    "# MiniProject #3: Deep Reinforcement Learning"
   ]
  },
  {
   "cell_type": "markdown",
   "metadata": {},
   "source": [
    "__Notations__: $E_p$ is the expectation under probability $p$. Please justify each of your answer and widely comment your code."
   ]
  },
  {
   "cell_type": "markdown",
   "metadata": {},
   "source": [
    "# Context"
   ]
  },
  {
   "cell_type": "markdown",
   "metadata": {},
   "source": [
    "In a reinforcement learning algorithm, we modelize each step $t$ as an action $a_t$ obtained from a state $s_t$, i.e. $\\{(a_{t},s_{t})_{t\\leq T}\\}$ having the Markov property. We consider a discount factor $\\gamma \\in [0,1]$ that ensures convergence. The goal is to find among all the policies $\\pi$, one that maximizes the expected reward:\n",
    "\n",
    "\\begin{equation*}\n",
    "R(\\pi)=\\sum_{t\\leq T}E_{p^{\\pi}}[\\gamma^t r(s_{t},a_{t})] \\> ,\n",
    "\\end{equation*}\n",
    "\n",
    "where: \n",
    "\\begin{equation*}p^{\\pi}(a_{0},a_{1},s_{1},...,a_{T},s_{T})=p(a_{0})\\prod_{t=1}^{T}\\pi(a_{t}|s_{t})p(s_{t+1}|s_{t},a_{t}) \\> .\n",
    "\\end{equation*}\n",
    "\n",
    "We note the $Q$-function:\n",
    "\n",
    "\\begin{equation*}Q^\\pi(s,a)=E_{p^{\\pi}}[\\sum_{t\\leq T}\\gamma^{t}r(s_{t},a_{t})|s_{0}=s,a_{0}=a] \\> .\n",
    "\\end{equation*}\n",
    "\n",
    "Thus, the optimal Q function is:\n",
    "\\begin{equation*}\n",
    "Q^*(s,a)=\\max_{\\pi}Q^\\pi(s,a) \\> .\n",
    "\\end{equation*}\n",
    "\n",
    "In this project, we will apply the deep reinforcement learning techniques to a simple game: an agent will have to learn from scratch a policy that will permit it maximizing a reward."
   ]
  },
  {
   "cell_type": "markdown",
   "metadata": {},
   "source": [
    "## The environment, the agent and the game"
   ]
  },
  {
   "cell_type": "markdown",
   "metadata": {},
   "source": [
    "### The environment"
   ]
  },
  {
   "cell_type": "markdown",
   "metadata": {},
   "source": [
    "```Environment``` is an abstract class that represents the states, rewards, and actions to obtain the new state."
   ]
  },
  {
   "cell_type": "code",
   "execution_count": 33,
   "metadata": {},
   "outputs": [],
   "source": [
    "class Environment(object):\n",
    "    def __init__(self):\n",
    "        pass\n",
    "\n",
    "    def act(self, act):\n",
    "        \"\"\"\n",
    "        One can act on the environment and obtain its reaction:\n",
    "        - the new state\n",
    "        - the reward of the new state\n",
    "        - should we continue the game?\n",
    "\n",
    "        :return: state, reward, game_over\n",
    "        \"\"\"\n",
    "        pass\n",
    "\n",
    "\n",
    "    def reset(self):\n",
    "        \"\"\"\n",
    "        Reinitialize the environment to a random state and returns\n",
    "        the original state\n",
    "\n",
    "        :return: state\n",
    "        \"\"\"\n",
    "        pass\n",
    "    \n",
    "    def draw(self):\n",
    "        \"\"\"\n",
    "        Visualize in the console or graphically the current state\n",
    "        \"\"\"\n",
    "        pass"
   ]
  },
  {
   "cell_type": "markdown",
   "metadata": {},
   "source": [
    "The method ```act``` allows to act on the environment at a given state $s_t$ (stored internally), via action $a_t$. The method will return the new state $s_{t+1}$, the reward $r(s_{t},a_{t})$ and determines if $t\\leq T$ (*game_over*).\n",
    "\n",
    "The method ```reset``` simply reinitializes the environment to a random state $s_0$.\n",
    "\n",
    "The method ```draw``` displays the current state $s_t$ (this is useful to check the behavior of the Agent).\n",
    "\n",
    "We modelize $s_t$ as a tensor, while $a_t$ is an integer."
   ]
  },
  {
   "cell_type": "markdown",
   "metadata": {},
   "source": [
    "### The Agent"
   ]
  },
  {
   "cell_type": "markdown",
   "metadata": {},
   "source": [
    "The goal of the ```Agent``` is to interact with the ```Environment``` by proposing actions $a_t$ obtained from a given state $s_t$ to attempt to maximize its __reward__ $r(s_t,a_t)$. We propose the following abstract class:"
   ]
  },
  {
   "cell_type": "code",
   "execution_count": 34,
   "metadata": {},
   "outputs": [],
   "source": [
    "class Agent(object):\n",
    "    def __init__(self, epsilon=0.1, n_action=4):\n",
    "        self.epsilon = epsilon\n",
    "        self.n_action = n_action\n",
    "    \n",
    "    def set_epsilon(self,e):\n",
    "        self.epsilon = e\n",
    "    \n",
    "    def get_epsilon(self):\n",
    "        return self.epsilon\n",
    "\n",
    "    def act(self,s,train=True):\n",
    "        \"\"\" This function should return the next action to do:\n",
    "        an integer between 0 and 4 (not included) with a random exploration of epsilon\"\"\"\n",
    "        if train:\n",
    "            if np.random.rand() <= self.epsilon:\n",
    "                a = np.random.randint(0, self.n_action, size=1)[0]\n",
    "            else:\n",
    "                a = self.learned_act(s)\n",
    "        else: # in some cases, this can improve the performance.. remove it if poor performances\n",
    "            a = self.learned_act(s)\n",
    "\n",
    "        return a\n",
    "\n",
    "    def learned_act(self,s):\n",
    "        \"\"\" Act via the policy of the agent, from a given state s\n",
    "        it proposes an action a\"\"\"\n",
    "        pass\n",
    "\n",
    "    def reinforce(self, s, n_s, a, r, game_over_):\n",
    "        \"\"\" This function is the core of the learning algorithm. \n",
    "        It takes as an input the current state s_, the next state n_s_\n",
    "        the action a_ used to move from s_ to n_s_ and the reward r_.\n",
    "        \n",
    "        Its goal is to learn a policy.\n",
    "        \"\"\"\n",
    "        pass\n",
    "\n",
    "    def save(self):\n",
    "        \"\"\" This function returns basic stats if applicable: the\n",
    "        loss and/or the model\"\"\"\n",
    "        pass\n",
    "\n",
    "    def load(self):\n",
    "        \"\"\" This function allows to restore a model\"\"\"\n",
    "        pass"
   ]
  },
  {
   "cell_type": "markdown",
   "metadata": {},
   "source": [
    "***\n",
    "__Question 1__:\n",
    "Explain the function act. Why is ```epsilon``` essential?"
   ]
  },
  {
   "cell_type": "markdown",
   "metadata": {},
   "source": [
    "The function act refers to the conditions on the action to be performed by the agent, under the given state of environment. Sometimes, there may be multiple ways to act at a particular state but, we can make the agent choose only one action. Normally, the agent chooses the action which is much into the future no matter how good the other options are. To overcome this partiality, we use the term exploration.\n",
    "\n",
    "The way of representing exploration is through an additional term in the equation which is __Epsilon__. If the randomly generated value is less tha Epsilon, then the random action is chosen, else we will choose the path with the maximum Q value\n",
    "\n",
    "$$ a^{*} = argmax_{a} Q^{\\pi} (s , a) $$\n",
    "\n",
    "In short, Epsilon basically represents the tradeoff between exploration and exploitation, which allows our agent to either explore more options or to exploit the most common option to the maximum"
   ]
  },
  {
   "cell_type": "markdown",
   "metadata": {},
   "source": [
    "***\n",
    "### The Game"
   ]
  },
  {
   "cell_type": "markdown",
   "metadata": {},
   "source": [
    "The ```Agent``` and the ```Environment``` work in an interlaced way as in the following (take some time to understand this code as it is the core of the project)\n",
    "\n",
    "```python\n",
    "\n",
    "epoch = 300\n",
    "env = Environment()\n",
    "agent = Agent()\n",
    "\n",
    "\n",
    "# Number of won games\n",
    "score = 0\n",
    "loss = 0\n",
    "\n",
    "\n",
    "for e in range(epoch):\n",
    "    # At each epoch, we restart to a fresh game and get the initial state\n",
    "    state = env.reset()\n",
    "    # This assumes that the games will end\n",
    "    game_over = False\n",
    "\n",
    "    win = 0\n",
    "    lose = 0\n",
    "    \n",
    "    while not game_over:\n",
    "        # The agent performs an action\n",
    "        action = agent.act(state)\n",
    "\n",
    "        # Apply an action to the environment, get the next state, the reward\n",
    "        # and if the games end\n",
    "        prev_state = state\n",
    "        state, reward, game_over = env.act(action)\n",
    "\n",
    "        # Update the counters\n",
    "        if reward > 0:\n",
    "            win = win + reward\n",
    "        if reward < 0:\n",
    "            lose = lose -reward\n",
    "\n",
    "        # Apply the reinforcement strategy\n",
    "        loss = agent.reinforce(prev_state, state,  action, reward, game_over)\n",
    "\n",
    "    # Save as a mp4\n",
    "    if e % 10 == 0:\n",
    "        env.draw(e)\n",
    "\n",
    "    # Update stats\n",
    "    score += win-lose\n",
    "\n",
    "    print(\"Epoch {:03d}/{:03d} | Loss {:.4f} | Win/lose count {}/{} ({})\"\n",
    "          .format(e, epoch, loss, win, lose, win-lose))\n",
    "    agent.save()\n",
    "```"
   ]
  },
  {
   "cell_type": "markdown",
   "metadata": {},
   "source": [
    "# The game, *eat cheese*"
   ]
  },
  {
   "cell_type": "markdown",
   "metadata": {},
   "source": [
    "A rat runs on an island and tries to eat as much as possible. The island is subdivided into $N\\times N$ cells, in which there are cheese (+0.5) and poisonous cells (-1). The rat has a visibility of 2 cells (thus it can see $5^2$ cells). The rat is given a time $T$ to accumulate as much food as possible. It can perform 4 actions: going up, down, left, right. \n",
    "\n",
    "The goal is to code an agent to solve this task that will learn by trial and error. We propose the following environment:"
   ]
  },
  {
   "cell_type": "code",
   "execution_count": 35,
   "metadata": {},
   "outputs": [],
   "source": [
    "class Environment(object):\n",
    "    def __init__(self, grid_size=10, max_time=500, temperature=0.1):\n",
    "        grid_size = grid_size+4\n",
    "        self.grid_size = grid_size\n",
    "        self.max_time = max_time\n",
    "        self.temperature = temperature\n",
    "\n",
    "        #board on which one plays\n",
    "        self.board = np.zeros((grid_size,grid_size))\n",
    "        self.position = np.zeros((grid_size,grid_size))\n",
    "\n",
    "        # coordinate of the cat\n",
    "        self.x = 0\n",
    "        self.y = 1\n",
    "\n",
    "        # self time\n",
    "        self.t = 0\n",
    "\n",
    "        self.scale=16\n",
    "\n",
    "        self.to_draw = np.zeros((max_time+2, grid_size*self.scale, grid_size*self.scale, 3))\n",
    "\n",
    "\n",
    "    def draw(self,e):\n",
    "        skvideo.io.vwrite(str(e) + '.mp4', self.to_draw)\n",
    "\n",
    "    def get_frame(self,t):\n",
    "        b = np.zeros((self.grid_size,self.grid_size,3))+128\n",
    "        b[self.board>0,0] = 256\n",
    "        b[self.board < 0, 2] = 256\n",
    "        b[self.x,self.y,:]=256\n",
    "        b[-2:,:,:]=0\n",
    "        b[:,-2:,:]=0\n",
    "        b[:2,:,:]=0\n",
    "        b[:,:2,:]=0\n",
    "        \n",
    "        b =  cv2.resize(b, None, fx=self.scale, fy=self.scale, interpolation=cv2.INTER_NEAREST)\n",
    "\n",
    "        self.to_draw[t,:,:,:]=b\n",
    "\n",
    "\n",
    "    def act(self, action):\n",
    "        \"\"\"This function returns the new state, reward and decides if the\n",
    "        game ends.\"\"\"\n",
    "\n",
    "        self.get_frame(int(self.t))\n",
    "\n",
    "        self.position = np.zeros((self.grid_size, self.grid_size))\n",
    "\n",
    "        self.position[0:2,:]= -1\n",
    "        self.position[:,0:2] = -1\n",
    "        self.position[-2:, :] = -1\n",
    "        self.position[-2:, :] = -1\n",
    "\n",
    "        self.position[self.x, self.y] = 1\n",
    "        if action == 0:\n",
    "            if self.x == self.grid_size-3:\n",
    "                self.x = self.x-1\n",
    "            else:\n",
    "                self.x = self.x + 1\n",
    "        elif action == 1:\n",
    "            if self.x == 2:\n",
    "                self.x = self.x+1\n",
    "            else:\n",
    "                self.x = self.x-1\n",
    "        elif action == 2:\n",
    "            if self.y == self.grid_size - 3:\n",
    "                self.y = self.y - 1\n",
    "            else:\n",
    "                self.y = self.y + 1\n",
    "        elif action == 3:\n",
    "            if self.y == 2:\n",
    "                self.y = self.y + 1\n",
    "            else:\n",
    "                self.y = self.y - 1\n",
    "        else:\n",
    "            RuntimeError('Error: action not recognized')\n",
    "\n",
    "        self.t = self.t + 1\n",
    "        reward = self.board[self.x, self.y]\n",
    "        self.board[self.x, self.y] = 0\n",
    "        game_over = self.t > self.max_time\n",
    "        state = np.concatenate((self.board.reshape(self.grid_size, self.grid_size,1),\n",
    "                        self.position.reshape(self.grid_size, self.grid_size,1)),axis=2)\n",
    "        state = state[self.x-2:self.x+3,self.y-2:self.y+3,:]\n",
    "\n",
    "        return state, reward, game_over\n",
    "\n",
    "    def reset(self):\n",
    "        \"\"\"This function resets the game and returns the initial state\"\"\"\n",
    "\n",
    "        self.x = np.random.randint(3, self.grid_size-3, size=1)[0]\n",
    "        self.y = np.random.randint(3, self.grid_size-3, size=1)[0]\n",
    "\n",
    "\n",
    "        bonus = 0.5*np.random.binomial(1,self.temperature,size=self.grid_size**2)\n",
    "        bonus = bonus.reshape(self.grid_size,self.grid_size)\n",
    "\n",
    "        malus = -1.0*np.random.binomial(1,self.temperature,size=self.grid_size**2)\n",
    "        malus = malus.reshape(self.grid_size, self.grid_size)\n",
    "\n",
    "        self.to_draw = np.zeros((self.max_time+2, self.grid_size*self.scale, self.grid_size*self.scale, 3))\n",
    "\n",
    "\n",
    "        malus[bonus>0]=0\n",
    "\n",
    "        self.board = bonus + malus\n",
    "\n",
    "        self.position = np.zeros((self.grid_size, self.grid_size))\n",
    "        self.position[0:2,:]= -1\n",
    "        self.position[:,0:2] = -1\n",
    "        self.position[-2:, :] = -1\n",
    "        self.position[-2:, :] = -1\n",
    "        self.board[self.x,self.y] = 0\n",
    "        self.t = 0\n",
    "\n",
    "        state = np.concatenate((\n",
    "                               self.board.reshape(self.grid_size, self.grid_size,1),\n",
    "                        self.position.reshape(self.grid_size, self.grid_size,1)),axis=2)\n",
    "\n",
    "        state = state[self.x - 2:self.x + 3, self.y - 2:self.y + 3, :]\n",
    "        return state"
   ]
  },
  {
   "cell_type": "markdown",
   "metadata": {},
   "source": [
    "The following elements are important because they correspond to the hyper parameters for this project:"
   ]
  },
  {
   "cell_type": "code",
   "execution_count": 36,
   "metadata": {},
   "outputs": [],
   "source": [
    "# parameters\n",
    "size = 13\n",
    "T=200\n",
    "temperature=0.3\n",
    "epochs_train=20 # set small when debugging\n",
    "epochs_test=20 # set small when debugging\n",
    "\n",
    "# display videos\n",
    "def display_videos(name):\n",
    "    video = io.open(name, 'r+b').read()\n",
    "    encoded = base64.b64encode(video)\n",
    "    return '''<video alt=\"test\" controls>\n",
    "                <source src=\"data:video/mp4;base64,{0}\" type=\"video/mp4\" />\n",
    "             </video>'''.format(encoded.decode('ascii'))"
   ]
  },
  {
   "cell_type": "markdown",
   "metadata": {},
   "source": [
    "__Question 2__ Explain the use of the arrays ```position``` and ```board```."
   ]
  },
  {
   "cell_type": "markdown",
   "metadata": {},
   "source": [
    "```position``` is the representation of the position of the rat on the board at a given time and state. The array is updated for each call of the function __act__  by setting all other boxes except the position of the rat to zeros. The goal of the array is to keep track of the position of the mouse and give information about its path to the agent. \n",
    "\n",
    "```board``` is the array that consists of all the possible positions on which the rat can move around. Its elements correspond to the rewards (-1 for poison and 0.5 for cheese) and 0 if there is it is plain space. It is useful for defining the state of the environment. The distribution of the reward (0.5 and -1) follows a binomial law. \n",
    "\n",
    "The environment sends a partial view of ```position``` and  ```board``` (visibility of 2 cells from its current position : self.x and self.y) to the rat so that it can move around based on the available information"
   ]
  },
  {
   "cell_type": "markdown",
   "metadata": {},
   "source": [
    "## Random Agent"
   ]
  },
  {
   "cell_type": "markdown",
   "metadata": {},
   "source": [
    "***\n",
    "__Question 3__ Implement a random Agent (only ```learned_act``` needs to be implemented):"
   ]
  },
  {
   "cell_type": "code",
   "execution_count": 37,
   "metadata": {},
   "outputs": [],
   "source": [
    "class RandomAgent(Agent):\n",
    "    def __init__(self):\n",
    "        super(RandomAgent, self).__init__()\n",
    "        pass\n",
    "\n",
    "    def learned_act(self, s):\n",
    "        return random.randint(0,3)"
   ]
  },
  {
   "cell_type": "markdown",
   "metadata": {},
   "source": [
    "***\n",
    "***\n",
    "__Question 4__ Visualize the game moves. You need to fill in the following function for the evaluation:"
   ]
  },
  {
   "cell_type": "code",
   "execution_count": 28,
   "metadata": {},
   "outputs": [],
   "source": [
    "def test(agent,env,epochs,prefix=''):\n",
    "    # Number of won games\n",
    "    score = 0\n",
    "        \n",
    "    for e in range(epochs):\n",
    "        \n",
    "        ##### FILL IN HERE\n",
    "        \n",
    "        # At each epoch, we restart to a fresh game and get the initial state\n",
    "        state = env.reset()\n",
    "        # This assumes that the games will end\n",
    "        game_over = False\n",
    "\n",
    "        win = 0\n",
    "        lose = 0\n",
    "\n",
    "        while not game_over:\n",
    "            # The agent performs an action\n",
    "            action = agent.act(state)\n",
    "\n",
    "            # Apply an action to the environment, get the next state, the reward\n",
    "            # and if the games end\n",
    "            prev_state = state\n",
    "            state, reward, game_over = env.act(action)\n",
    "\n",
    "            # Update the counters\n",
    "            if reward > 0:\n",
    "                win = win + reward\n",
    "            if reward < 0:\n",
    "                lose = lose - reward\n",
    "                \n",
    "                \n",
    "        # Save as a mp4\n",
    "        env.draw(prefix+str(e))\n",
    "\n",
    "        # Update stats\n",
    "        score = score + win-lose\n",
    "\n",
    "        print(\"Win/lose count {}/{}. Average score ({})\"\n",
    "              .format(win, lose, score/(1+e)))\n",
    "    print('Final score: '+str(score/epochs))"
   ]
  },
  {
   "cell_type": "code",
   "execution_count": 38,
   "metadata": {},
   "outputs": [
    {
     "name": "stdout",
     "output_type": "stream",
     "text": [
      "Win/lose count 6.0/13.0. Average score (-7.0)\n",
      "Win/lose count 15.5/12.0. Average score (-1.75)\n",
      "Win/lose count 6.0/17.0. Average score (-4.833333333333333)\n",
      "Win/lose count 10.5/7.0. Average score (-2.75)\n",
      "Win/lose count 6.0/13.0. Average score (-3.6)\n",
      "Win/lose count 10.0/13.0. Average score (-3.5)\n",
      "Win/lose count 7.0/18.0. Average score (-4.571428571428571)\n",
      "Win/lose count 9.0/15.0. Average score (-4.75)\n",
      "Win/lose count 9.0/11.0. Average score (-4.444444444444445)\n",
      "Win/lose count 10.0/13.0. Average score (-4.3)\n",
      "Win/lose count 10.0/26.0. Average score (-5.363636363636363)\n",
      "Win/lose count 14.0/12.0. Average score (-4.75)\n",
      "Win/lose count 8.5/13.0. Average score (-4.730769230769231)\n",
      "Win/lose count 11.5/11.0. Average score (-4.357142857142857)\n",
      "Win/lose count 11.5/20.0. Average score (-4.633333333333334)\n",
      "Win/lose count 9.5/20.0. Average score (-5.0)\n",
      "Win/lose count 10.0/19.0. Average score (-5.235294117647059)\n",
      "Win/lose count 9.5/18.0. Average score (-5.416666666666667)\n",
      "Win/lose count 9.0/15.0. Average score (-5.447368421052632)\n",
      "Win/lose count 11.0/14.0. Average score (-5.325)\n",
      "Final score: -5.325\n"
     ]
    },
    {
     "data": {
      "text/html": [
       "<video alt=\"test\" controls>\n",
       "                <source src=\"data:video/mp4;base64,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\" type=\"video/mp4\" />\n",
       "             </video>"
      ],
      "text/plain": [
       "<IPython.core.display.HTML object>"
      ]
     },
     "execution_count": 38,
     "metadata": {},
     "output_type": "execute_result"
    }
   ],
   "source": [
    "# Initialize the game\n",
    "env = Environment(grid_size=size, max_time=T,temperature=temperature)\n",
    "\n",
    "# Initialize the agent!\n",
    "agent = RandomAgent()\n",
    "\n",
    "test(agent,env,epochs_test,prefix='random')\n",
    "HTML(display_videos('random0.mp4'))"
   ]
  },
  {
   "cell_type": "markdown",
   "metadata": {},
   "source": [
    "***\n",
    "## DQN"
   ]
  },
  {
   "cell_type": "markdown",
   "metadata": {},
   "source": [
    "Let us assume here that $T=\\infty$.\n",
    "\n",
    "***\n",
    "__Question 5__ Let $\\pi$ be a policy, show that:\n",
    "\n",
    "\\begin{equation*}\n",
    "Q^{\\pi}(s,a)=E_{(s',a')\\sim p(.|s,a)}[r(s,a)+\\gamma Q^{\\pi}(s',a')]\n",
    "\\end{equation*}\n",
    "\n",
    "Then, show that for the optimal policy $\\pi^*$ (we assume its existence), the following holds: \n",
    "\n",
    "\\begin{equation*}\n",
    "Q^{*}(s,a)=E_{s'\\sim \\pi^*(.|s,a)}[r(s,a)+\\gamma\\max_{a'}Q^{*}(s',a')].\n",
    "\\end{equation*}\n",
    "Finally, deduce that a plausible objective is:\n",
    "\n",
    "\\begin{equation*}\n",
    "\\mathcal{L}(\\theta)=E_{s' \\sim \\pi^*(.|s,a)}\\Vert r+\\gamma\\max\\max_{a'}Q(s',a',\\theta)-Q(s,a,\\theta)\\Vert^{2}.\n",
    "\\end{equation*}\n",
    "\n",
    "\n"
   ]
  },
  {
   "cell_type": "markdown",
   "metadata": {},
   "source": [
    "#### Answer:\n",
    "According to the definition:\n",
    "\n",
    "\\begin{equation*}Q^\\pi(s,a)=E_{p^{\\pi}}[\\sum_{t=0}^{+\\infty}\\gamma^{t}r(s_{t},a_{t})|s_{0}=s,a_{0}=a]\n",
    "\\end{equation*}\n",
    "\n",
    "So:\n",
    "\n",
    "\n",
    "\\begin{align}Q^\\pi(s,a)&=E_{p^{\\pi}}[r(s_{0},a_{0}) + \\sum_{t=1}^{+\\infty}\\gamma^{t}r(s_{t},a_{t})|s_{0} =s,a_{0}=a] \n",
    "\\\\\n",
    "&=E_{p^{\\pi}}[r(s_{0},a_{0}) + \\gamma\\sum_{t=1}^{+\\infty}\\gamma^{t-1}r(s_{t},a_{t})|s_{0} =s,a_{0}=a]\n",
    "\\\\\n",
    "&=E_{p^{\\pi}}[r(s_{0},a_{0})|s_{0} =s,a_{0}=a] + E_{p^{\\pi}}[\\gamma\\sum_{t=0}^{+\\infty}\\gamma^{t}r(s_{t+1},a_{t+1})|s_{0} =s,a_{0}=a]\n",
    "\\\\\n",
    "&=r(s,a) + \\gamma E_{p^{\\pi}(.|s_{0} =s,a_{0}=a)}[\\sum_{t=0}^{+\\infty}\\gamma^{t}r(s_{t+1},a_{t+1})]\n",
    "\\\\\n",
    "&=r(s,a) + \\gamma \\sum_{s',a'}p^{\\pi}(s_{1}=s',a_{1}=a'|s_{0} =s,a_{0}=a)E_{p^{\\pi}(.|s_{0} =s,a_{0}=a)}[\\sum_{t=0}^{+\\infty}\\gamma^{t}r(s_{t+1},a_{t+1})|s_{1} =s',a_{1}=a']\n",
    "\\\\\n",
    "&=r(s,a) + \\gamma \\sum_{s',a'}p^{\\pi}(s_{1}=s',a_{1}=a'|s_{0} =s,a_{0}=a)E_{p^{\\pi}}[\\sum_{t=0}^{+\\infty}\\gamma^{t}r(s_{t},a_{t})|s_{0} =s',a_{0}=a']\n",
    "\\\\\n",
    "&=r(s,a) + \\gamma \\sum_{s',a'}p^{\\pi}(s_{1}=s',a_{1}=a'|s_{0} =s,a_{0}=a)Q^{\\pi}(s',a')\n",
    "\\\\\n",
    "Q^\\pi(s,a)&=E_{(s′,a′)∼p(.|s,a)}[r(s,a) + \\gamma Q^{\\pi}(s',a')]\n",
    "\\end{align}\n",
    "\n",
    " \n",
    "\n",
    "Assuming the optimal policy $\\pi^*$ exists, the optimal Q function is defined as follows:\n",
    "\n",
    "\\begin{align}Q^*(s,a)&=\\max_{\\pi}Q^\\pi(s,a)\n",
    "\\\\\n",
    "&= \\max_{\\pi} E_{(s',a')\\sim p(.|s,a)}[r(s,a)+\\gamma Q^{\\pi}(s',a')]\n",
    "\\\\\n",
    "&= E_{s'\\sim \\pi^*(.|s,a)}[r(s,a)+\\gamma Q^{\\pi^*}(s',a')]\n",
    "\\\\\n",
    "Q^*(s,a)&= E_{s'\\sim \\pi^*(.|s,a)}[r(s,a)+\\gamma\\max_{a'}Q^{*}(s',a')]\n",
    "\\end{align}\n",
    "\n",
    "Finally, the minimization of the loss function is given by:\n",
    "\n",
    "\\begin{align}\\mathcal{L}(\\theta)&= E_{s' \\sim \\pi^*(.|s,a)}( ( Q^* (s,a,\\theta ) - Q(s,a,\\theta)) ^2) \n",
    "\\\\\n",
    "&=  E_{s' \\sim \\pi^*(.|s,a)} ( ( r(s,a)+\\gamma\\max_{a'}Q^{*}(s',a', \\theta) - Q(s,a,\\theta)) ^2) \n",
    "\\\\\n",
    "&= E_{s' \\sim \\pi^*(.|s,a)}\\Vert r+\\gamma\\max\\max_{a'}Q(s',a',\\theta)-Q(s,a,\\theta)\\Vert^{2}\n",
    "\\end{align}"
   ]
  },
  {
   "cell_type": "markdown",
   "metadata": {},
   "source": [
    "***\n",
    "The DQN-learning algorithm relies on these derivations to train the parameters $\\theta$ of a Deep Neural Network:\n",
    "\n",
    "1. At the state $s_t$, select the action $a_t$ with best reward using $Q_t$ and store the results;\n",
    "\n",
    "2. Obtain the new state $s_{t+1}$ from the environment $p$;\n",
    "\n",
    "3. Store $(s_t,a_t,s_{t+1})$;\n",
    "\n",
    "4. Obtain $Q_{t+1}$ by minimizing  $\\mathcal{L}$ from a recovered batch from the previously stored results.\n",
    "\n",
    "***\n",
    "__Question 6__ Implement the class ```Memory``` that stores moves (in a replay buffer) via ```remember``` and provides a ```random_access``` to these. Specify a maximum memory size to avoid side effects. You can for example use a ```list()``` and set by default ```max_memory=100```."
   ]
  },
  {
   "cell_type": "code",
   "execution_count": 40,
   "metadata": {},
   "outputs": [],
   "source": [
    "#from collections import deque\n",
    "class Memory(object):\n",
    "    def __init__(self, max_memory=100):\n",
    "        self.max_memory = max_memory\n",
    "        self.memory = list()\n",
    "\n",
    "    def remember(self, m):\n",
    "        if len(self.memory) < self.max_memory: # if memory is not full\n",
    "            self.memory.append(m)\n",
    "        else:\n",
    "            self.memory[np.random.randint(0, len(self.memory), size=1)[0]] = m\n",
    "\n",
    "    def random_access(self):\n",
    "        idx = random.randint(0,len(self.memory)-1)\n",
    "        return self.memory[idx]"
   ]
  },
  {
   "cell_type": "markdown",
   "metadata": {},
   "source": [
    "***\n",
    "The pipeline we will use for training is given below:"
   ]
  },
  {
   "cell_type": "code",
   "execution_count": 41,
   "metadata": {},
   "outputs": [],
   "source": [
    "def train(agent,env,epoch,prefix=''):\n",
    "    # Number of won games\n",
    "    score = 0\n",
    "    loss = 0\n",
    "\n",
    "    for e in range(epoch):\n",
    "        # At each epoch, we restart to a fresh game and get the initial state\n",
    "        state = env.reset()\n",
    "        # This assumes that the games will terminate\n",
    "        game_over = False\n",
    "\n",
    "        win = 0\n",
    "        lose = 0\n",
    "\n",
    "        while not game_over:\n",
    "            # The agent performs an action\n",
    "            action = agent.act(state)\n",
    "\n",
    "            # Apply an action to the environment, get the next state, the reward\n",
    "            # and if the games end\n",
    "            prev_state = state\n",
    "            state, reward, game_over = env.act(action)\n",
    "\n",
    "            # Update the counters\n",
    "            if reward > 0:\n",
    "                win = win + reward\n",
    "            if reward < 0:\n",
    "                lose = lose -reward\n",
    "\n",
    "            # Apply the reinforcement strategy\n",
    "            loss = agent.reinforce(prev_state, state,  action, reward, game_over)\n",
    "\n",
    "        # Save as a mp4\n",
    "        env.draw(prefix+str(e))\n",
    "\n",
    "        # Update stats\n",
    "        score += win-lose\n",
    "\n",
    "        print(\"Epoch {:03d}/{:03d} | Loss {:.4f} | Win/lose count {}/{} ({})\"\n",
    "              .format(e, epoch, loss, win, lose, win-lose))\n",
    "        agent.save(name_weights=prefix+'model.h5',name_model=prefix+'model.json')\n",
    "        \n",
    "    print('Final score: '+str(score/epoch))"
   ]
  },
  {
   "cell_type": "markdown",
   "metadata": {},
   "source": [
    "***\n",
    "__Question 7__ Implement the DQN training algorithm using a cascade of fully connected layers. You can use different learning rate, batch size or memory size parameters. In particular, the loss might oscillate while the player will start to win the games. You have to find a good criterium."
   ]
  },
  {
   "cell_type": "code",
   "execution_count": 42,
   "metadata": {},
   "outputs": [],
   "source": [
    "class DQN(Agent):\n",
    "    def __init__(self, grid_size,  epsilon = 0.1, memory_size=100, batch_size = 16,n_state=2):\n",
    "        super(DQN, self).__init__(epsilon = epsilon)\n",
    "\n",
    "        # Discount for Q learning\n",
    "        self.discount = 0.99\n",
    "        \n",
    "        self.grid_size = grid_size\n",
    "        \n",
    "        # number of state\n",
    "        self.n_state = n_state\n",
    "\n",
    "        # Memory\n",
    "        self.memory = Memory(memory_size)\n",
    "        \n",
    "        # Batch size when learning\n",
    "        self.batch_size = batch_size\n",
    "    \n",
    "\n",
    "    def learned_act(self, s):\n",
    "        \n",
    "        s = np.reshape(s,[1,5,5,self.n_state])\n",
    "        # Predict the reward value based on the given state\n",
    "        act_values = self.model.predict(s)\n",
    "        return np.argmax(act_values[0])\n",
    "\n",
    "    def reinforce(self, s_, n_s_, a_, r_, game_over_):\n",
    "        # Two steps: first memorize the states, second learn from the pool\n",
    "        \n",
    "        s_ = np.reshape(s_,[1,5,5,self.n_state])\n",
    "        n_s_ = np.reshape(n_s_,[1,5,5,self.n_state])\n",
    "        \n",
    "        self.memory.remember([s_, n_s_, a_, r_, game_over_])\n",
    "        \n",
    "        input_states = np.zeros((self.batch_size, 5,5,self.n_state))\n",
    "        target_q = np.zeros((self.batch_size, 4))\n",
    "\n",
    "        for i in range(self.batch_size):\n",
    "            target = r_\n",
    "            minibatch = self.memory.random_access()\n",
    "            \n",
    "            s_= minibatch[0]\n",
    "            n_s_= minibatch[1]\n",
    "            a_ = minibatch[2]\n",
    "            r_= minibatch[3]\n",
    "            game_over_= minibatch[4]\n",
    "            \n",
    "            input_states[i]= s_\n",
    "            \n",
    "            if game_over_:\n",
    "                target= r_\n",
    "\n",
    "            else:               \n",
    "                target = (r_ + self.discount * np.amax(self.model.predict(n_s_)[0]))\n",
    "                \n",
    "            target_f = self.model.predict(s_)\n",
    "            target_f[0][a_] = target\n",
    "            self.model.fit(s_, target_f, epochs=1, verbose=0)\n",
    "            \n",
    "            target_q[i]=target_f\n",
    "            \n",
    "        # HINT: Clip the target to avoid exploiding gradients.. -- clipping is a bit tighter\n",
    "        target_q = np.clip(target_q, -3, 3)\n",
    "\n",
    "        l = self.model.train_on_batch(input_states, target_q)\n",
    "\n",
    "        return l\n",
    "\n",
    "    def save(self,name_weights='model.h5',name_model='model.json'):\n",
    "        self.model.save_weights(name_weights, overwrite=True)\n",
    "        with open(name_model, \"w\") as outfile:\n",
    "            json.dump(self.model.to_json(), outfile)\n",
    "            \n",
    "    def load(self,name_weights='model.h5',name_model='model.json'):\n",
    "        with open(name_model, \"r\") as jfile:\n",
    "            model = model_from_json(json.load(jfile))\n",
    "        model.load_weights(name_weights)\n",
    "        model.compile(\"sgd\", \"mse\")\n",
    "        self.model = model\n",
    "\n",
    "            \n",
    "\n",
    "class DQN_FC(DQN):\n",
    "    def __init__(self, lr=0.1,  *args, **kwargs):\n",
    "        super(DQN_FC, self).__init__(*args,**kwargs)\n",
    "        \n",
    "        # NN Model\n",
    "        state_size = 50\n",
    "        \n",
    "        model = Sequential()\n",
    "        model.add(Reshape((state_size,), input_shape=(5,5,self.n_state)))\n",
    "        model.add(Dense(512, input_dim=state_size, activation='relu'))\n",
    "        model.add(Dense(128, activation='relu'))\n",
    "        model.add(Dense(4, activation='linear'))\n",
    "        #print(model.summary())\n",
    "        #model.compile(sgd(lr=lr, decay=1e-4, momentum=0.0), \"mse\")\n",
    "        model.compile(loss='mse', optimizer=Adam(lr=lr))\n",
    "        self.model = model\n",
    "        \n",
    "        "
   ]
  },
  {
   "cell_type": "code",
   "execution_count": 43,
   "metadata": {},
   "outputs": [
    {
     "name": "stdout",
     "output_type": "stream",
     "text": [
      "Epoch 000/020 | Loss 1.0828 | Win/lose count 3.0/6.0 (-3.0)\n",
      "Epoch 001/020 | Loss 0.1244 | Win/lose count 5.0/8.0 (-3.0)\n",
      "Epoch 002/020 | Loss 0.3165 | Win/lose count 13.0/20.0 (-7.0)\n",
      "Epoch 003/020 | Loss 0.1395 | Win/lose count 4.5/9.0 (-4.5)\n",
      "Epoch 004/020 | Loss 0.9537 | Win/lose count 7.5/11.0 (-3.5)\n",
      "Epoch 005/020 | Loss 0.2668 | Win/lose count 7.5/12.0 (-4.5)\n",
      "Epoch 006/020 | Loss 0.2534 | Win/lose count 8.0/8.0 (0.0)\n",
      "Epoch 007/020 | Loss 0.2024 | Win/lose count 4.0/12.0 (-8.0)\n",
      "Epoch 008/020 | Loss 0.4752 | Win/lose count 7.0/12.0 (-5.0)\n",
      "Epoch 009/020 | Loss 0.5957 | Win/lose count 12.0/4.0 (8.0)\n",
      "Epoch 010/020 | Loss 0.2777 | Win/lose count 10.5/17.0 (-6.5)\n",
      "Epoch 011/020 | Loss 1.1697 | Win/lose count 7.0/23.0 (-16.0)\n",
      "Epoch 012/020 | Loss 0.3500 | Win/lose count 5.5/10.0 (-4.5)\n",
      "Epoch 013/020 | Loss 0.3869 | Win/lose count 12.0/11.0 (1.0)\n",
      "Epoch 014/020 | Loss 0.8928 | Win/lose count 9.0/13.0 (-4.0)\n",
      "Epoch 015/020 | Loss 0.5696 | Win/lose count 7.5/11.0 (-3.5)\n",
      "Epoch 016/020 | Loss 0.3364 | Win/lose count 7.5/12.0 (-4.5)\n",
      "Epoch 017/020 | Loss 0.3059 | Win/lose count 12.0/6.0 (6.0)\n",
      "Epoch 018/020 | Loss 0.4047 | Win/lose count 6.0/6.0 (0.0)\n",
      "Epoch 019/020 | Loss 0.0385 | Win/lose count 3.0/7.0 (-4.0)\n",
      "Final score: -3.325\n"
     ]
    },
    {
     "data": {
      "text/html": [
       "<video alt=\"test\" controls>\n",
       "                <source src=\"data:video/mp4;base64,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\" type=\"video/mp4\" />\n",
       "             </video>"
      ],
      "text/plain": [
       "<IPython.core.display.HTML object>"
      ]
     },
     "execution_count": 43,
     "metadata": {},
     "output_type": "execute_result"
    }
   ],
   "source": [
    "env = Environment(grid_size=size, max_time=T, temperature=0.3)\n",
    "agent = DQN_FC(lr=0.1, grid_size=size, epsilon = 0.1, memory_size=2000, batch_size = 32)\n",
    "train(agent, env, epochs_train, prefix='fc_train')\n",
    "HTML(display_videos('fc_train0.mp4'))"
   ]
  },
  {
   "cell_type": "markdown",
   "metadata": {},
   "source": [
    "***\n",
    "***\n",
    "__Question 8__ Implement the DQN training algorithm using a CNN (for example, 2 convolutional layers and one final fully connected layer)."
   ]
  },
  {
   "cell_type": "code",
   "execution_count": 46,
   "metadata": {},
   "outputs": [],
   "source": [
    "from keras.layers.core import Flatten\n",
    "from keras.layers.core import Dropout\n",
    "\n",
    "class DQN_CNN(DQN):\n",
    "    def __init__(self, lr=0.1, *args,**kwargs):\n",
    "        super(DQN_CNN, self).__init__(*args,**kwargs)\n",
    "        \n",
    "        filters = 32\n",
    "        kernel_size = (2,2)\n",
    "        \n",
    "        model = Sequential()\n",
    "        model.add(Conv2D(filters, kernel_size, input_shape=(5,5,self.n_state), activation='relu'))\n",
    "        model.add(Conv2D(filters, kernel_size, activation='relu'))\n",
    "        model.add(Dropout(0.2))\n",
    "        model.add(Flatten())\n",
    "        model.add(Dense(4, activation='linear'))\n",
    "        #print(model.summary())\n",
    "        model.compile(sgd(lr=lr, decay=1e-4, momentum=0.0), \"mse\")\n",
    "        self.model = model\n",
    "       "
   ]
  },
  {
   "cell_type": "code",
   "execution_count": 47,
   "metadata": {},
   "outputs": [
    {
     "name": "stdout",
     "output_type": "stream",
     "text": [
      "Epoch 000/020 | Loss nan | Win/lose count 3.0/5.0 (-2.0)\n",
      "Epoch 001/020 | Loss nan | Win/lose count 2.0/5.0 (-3.0)\n",
      "Epoch 002/020 | Loss nan | Win/lose count 1.0/2.0 (-1.0)\n",
      "Epoch 003/020 | Loss nan | Win/lose count 3.0/5.0 (-2.0)\n",
      "Epoch 004/020 | Loss nan | Win/lose count 2.5/5.0 (-2.5)\n",
      "Epoch 005/020 | Loss nan | Win/lose count 2.5/2.0 (0.5)\n",
      "Epoch 006/020 | Loss nan | Win/lose count 1.5/2.0 (-0.5)\n",
      "Epoch 007/020 | Loss nan | Win/lose count 0.5/2.0 (-1.5)\n",
      "Epoch 008/020 | Loss nan | Win/lose count 1.5/2.0 (-0.5)\n",
      "Epoch 009/020 | Loss nan | Win/lose count 1.0/4.0 (-3.0)\n",
      "Epoch 010/020 | Loss nan | Win/lose count 2.5/2.0 (0.5)\n",
      "Epoch 011/020 | Loss nan | Win/lose count 2.5/1.0 (1.5)\n",
      "Epoch 012/020 | Loss nan | Win/lose count 2.0/1.0 (1.0)\n",
      "Epoch 013/020 | Loss nan | Win/lose count 2.5/1.0 (1.5)\n",
      "Epoch 014/020 | Loss nan | Win/lose count 4.0/6.0 (-2.0)\n",
      "Epoch 015/020 | Loss nan | Win/lose count 2.5/2.0 (0.5)\n",
      "Epoch 016/020 | Loss nan | Win/lose count 2.0/3.0 (-1.0)\n",
      "Epoch 017/020 | Loss nan | Win/lose count 3.5/2.0 (1.5)\n",
      "Epoch 018/020 | Loss nan | Win/lose count 1.5/5.0 (-3.5)\n",
      "Epoch 019/020 | Loss nan | Win/lose count 2.5/4.0 (-1.5)\n",
      "Final score: -0.85\n"
     ]
    },
    {
     "data": {
      "text/html": [
       "<video alt=\"test\" controls>\n",
       "                <source src=\"data:video/mp4;base64,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\" type=\"video/mp4\" />\n",
       "             </video>"
      ],
      "text/plain": [
       "<IPython.core.display.HTML object>"
      ]
     },
     "execution_count": 47,
     "metadata": {},
     "output_type": "execute_result"
    }
   ],
   "source": [
    "env = Environment(grid_size=size, max_time=T, temperature=0.3)\n",
    "agent = DQN_CNN(lr=.1, grid_size = size, epsilon = 0.1, memory_size=2000, batch_size = 32)\n",
    "train(agent,env,epochs_train,prefix='cnn_train')\n",
    "HTML(display_videos('cnn_train0.mp4'))"
   ]
  },
  {
   "cell_type": "markdown",
   "metadata": {},
   "source": [
    "***\n",
    "***\n",
    "__Question 9__ Test both algorithms and compare their performances. Which issue(s) do you observe? Observe also different behaviors by changing the temperature."
   ]
  },
  {
   "cell_type": "code",
   "execution_count": 48,
   "metadata": {},
   "outputs": [
    {
     "name": "stdout",
     "output_type": "stream",
     "text": [
      "\n",
      "Test of the CNN\n",
      "Win/lose count 17.0/1.0. Average score (16.0)\n",
      "Win/lose count 12.5/1.0. Average score (13.75)\n",
      "Win/lose count 19.0/0. Average score (15.5)\n",
      "Win/lose count 10.5/2.0. Average score (13.75)\n",
      "Win/lose count 7.0/2.0. Average score (12.0)\n",
      "Win/lose count 15.5/2.0. Average score (12.25)\n",
      "Win/lose count 17.0/2.0. Average score (12.642857142857142)\n",
      "Win/lose count 12.0/3.0. Average score (12.1875)\n",
      "Win/lose count 20.0/6.0. Average score (12.38888888888889)\n",
      "Win/lose count 8.5/1.0. Average score (11.9)\n",
      "Win/lose count 15.5/5.0. Average score (11.772727272727273)\n",
      "Win/lose count 10.0/3.0. Average score (11.375)\n",
      "Win/lose count 19.5/5.0. Average score (11.615384615384615)\n",
      "Win/lose count 18.0/3.0. Average score (11.857142857142858)\n",
      "Win/lose count 19.0/3.0. Average score (12.133333333333333)\n",
      "Win/lose count 19.0/8.0. Average score (12.0625)\n",
      "Win/lose count 14.5/4.0. Average score (11.970588235294118)\n",
      "Win/lose count 9.0/2.0. Average score (11.694444444444445)\n",
      "Win/lose count 10.0/0. Average score (11.605263157894736)\n",
      "Win/lose count 11.0/3.0. Average score (11.425)\n",
      "Final score: 11.425\n",
      "\n",
      "Test of the FC\n",
      "Win/lose count 3.0/4.0. Average score (-1.0)\n",
      "Win/lose count 2.0/3.0. Average score (-1.0)\n",
      "Win/lose count 1.5/6.0. Average score (-2.1666666666666665)\n",
      "Win/lose count 3.5/0. Average score (-0.75)\n",
      "Win/lose count 4.5/5.0. Average score (-0.7)\n",
      "Win/lose count 1.5/4.0. Average score (-1.0)\n",
      "Win/lose count 1.5/1.0. Average score (-0.7857142857142857)\n",
      "Win/lose count 3.5/4.0. Average score (-0.75)\n",
      "Win/lose count 1.5/1.0. Average score (-0.6111111111111112)\n",
      "Win/lose count 1.5/1.0. Average score (-0.5)\n",
      "Win/lose count 2.5/2.0. Average score (-0.4090909090909091)\n",
      "Win/lose count 2.0/5.0. Average score (-0.625)\n",
      "Win/lose count 1.0/5.0. Average score (-0.8846153846153846)\n",
      "Win/lose count 1.5/3.0. Average score (-0.9285714285714286)\n",
      "Win/lose count 2.0/5.0. Average score (-1.0666666666666667)\n",
      "Win/lose count 2.5/2.0. Average score (-0.96875)\n",
      "Win/lose count 4.5/8.0. Average score (-1.1176470588235294)\n",
      "Win/lose count 1.5/4.0. Average score (-1.1944444444444444)\n",
      "Win/lose count 2.0/5.0. Average score (-1.2894736842105263)\n",
      "Win/lose count 0.5/2.0. Average score (-1.3)\n",
      "Final score: -1.3\n"
     ]
    }
   ],
   "source": [
    "env = Environment(grid_size=size, max_time=T,temperature=0.3)\n",
    "agent_cnn = DQN_CNN(lr=.1, grid_size=size, epsilon = 0.1, memory_size=2000, batch_size = 32)\n",
    "agent_cnn.load(name_weights='cnn_trainmodel.h5',name_model='cnn_trainmodel.json')\n",
    "\n",
    "agent_fc = DQN_FC(lr=.1, grid_size=size, epsilon = 0.1, memory_size=2000, batch_size = 32)\n",
    "agent_fc.load(name_weights='fc_trainmodel.h5',name_model='fc_trainmodel.json')\n",
    "print('\\nTest of the CNN')\n",
    "test(agent_cnn,env,epochs_test,prefix='cnn_test')\n",
    "print('\\nTest of the FC')\n",
    "test(agent_fc,env,epochs_test,prefix='fc_test')"
   ]
  },
  {
   "cell_type": "code",
   "execution_count": 50,
   "metadata": {},
   "outputs": [
    {
     "data": {
      "text/html": [
       "<video alt=\"test\" controls>\n",
       "                <source src=\"data:video/mp4;base64,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\" type=\"video/mp4\" />\n",
       "             </video>"
      ],
      "text/plain": [
       "<IPython.core.display.HTML object>"
      ]
     },
     "execution_count": 50,
     "metadata": {},
     "output_type": "execute_result"
    }
   ],
   "source": [
    "HTML(display_videos('cnn_test3.mp4'))"
   ]
  },
  {
   "cell_type": "code",
   "execution_count": 51,
   "metadata": {},
   "outputs": [
    {
     "data": {
      "text/html": [
       "<video alt=\"test\" controls>\n",
       "                <source src=\"data:video/mp4;base64,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\" type=\"video/mp4\" />\n",
       "             </video>"
      ],
      "text/plain": [
       "<IPython.core.display.HTML object>"
      ]
     },
     "execution_count": 51,
     "metadata": {},
     "output_type": "execute_result"
    }
   ],
   "source": [
    "HTML(display_videos('fc_test10.mp4'))"
   ]
  },
  {
   "cell_type": "markdown",
   "metadata": {},
   "source": [
    "#### Observations: \n",
    "we can obviously notice the fact that the model based on CNN performs distinctly better than the FC model. However, the agent doesn't explore other areas in the board and most of the time it sticks to the current board, going back and forth; this implies that we have a low exploration rate. \n",
    "\n",
    "\n",
    "#### Effect of temperature change :\n",
    "We notice that we improve the final score, but it might be biased because we increase the probability of having cheese and we lower the probility of poisonious cells by doing this.\n"
   ]
  },
  {
   "cell_type": "markdown",
   "metadata": {},
   "source": [
    "***\n",
    "\n",
    "The algorithm tends to not explore the map which can be an issue. We propose two ideas in order to encourage exploration:\n",
    "1. Incorporating a decreasing $\\epsilon$-greedy exploration. You can use the method ```set_epsilon```\n",
    "2. Append via the environment a new state that describes if a cell has been visited or not\n",
    "\n",
    "***\n",
    "__Question 10__ Design a new ```train_explore``` function and environment class ```EnvironmentExploring``` to tackle the issue of exploration.\n",
    "\n"
   ]
  },
  {
   "cell_type": "code",
   "execution_count": 52,
   "metadata": {},
   "outputs": [],
   "source": [
    "def train_explore(agent,env,epoch,prefix=''):\n",
    "    # Number of won games\n",
    "    score = 0\n",
    "    loss = 0\n",
    "\n",
    "    \n",
    "    for e in range(epoch):\n",
    "        # At each epoch, we restart to a fresh game and get the initial state\n",
    "        state = env.reset()\n",
    "        # This assumes that the games will terminate\n",
    "        game_over = False\n",
    "\n",
    "        win = 0\n",
    "        lose = 0\n",
    "\n",
    "        while not game_over:\n",
    "            \n",
    "            # Epsilon-greedy \n",
    "            agent.set_epsilon(np.float(agent.get_epsilon())*0.995)\n",
    "            \n",
    "            # The agent performs an action\n",
    "            action = agent.act(state)\n",
    "\n",
    "            # Apply an action to the environment, get the next state, the reward\n",
    "            # and if the games end\n",
    "            prev_state = state\n",
    "            state, reward, game_over = env.act(action, train=True)\n",
    "\n",
    "            # Update the counters\n",
    "            if reward > 0:\n",
    "                win = win + reward\n",
    "            if reward < 0:\n",
    "                lose = lose - reward\n",
    "\n",
    "            # Apply the reinforcement strategy\n",
    "            loss = agent.reinforce(prev_state, state,  action, reward, game_over)\n",
    "            \n",
    "        # Save as a mp4       \n",
    "        env.draw(prefix+str(e))\n",
    "\n",
    "        # Update stats\n",
    "        score += win-lose\n",
    "\n",
    "        print(\"Epoch {:03d}/{:03d} | Loss {:.4f} | Win/lose count {}/{} ({})\"\n",
    "              .format(e, epoch, loss, win, lose, win-lose))\n",
    "        agent.save(name_weights=prefix+'model.h5',name_model=prefix+'model.json')\n",
    "        \n",
    "    print('Final score: '+str(score/epoch))\n",
    "        \n",
    "class EnvironmentExploring(object):\n",
    "    def __init__(self, grid_size=10, max_time=500, temperature=0.1):\n",
    "        grid_size = grid_size + 4\n",
    "        self.grid_size = grid_size\n",
    "        self.max_time = max_time\n",
    "        self.temperature = temperature\n",
    "        \n",
    "        self.board = np.zeros([grid_size,grid_size])\n",
    "        self.position = np.zeros([grid_size,grid_size])\n",
    "        self.malus_position = np.zeros([grid_size,grid_size])\n",
    "        \n",
    "        # coordinate of the rat\n",
    "        self.x = 0\n",
    "        self.y = 1\n",
    "        \n",
    "        # self time\n",
    "        self.t = 0\n",
    "\n",
    "        self.scale=16\n",
    "\n",
    "        self.to_draw = np.zeros((max_time+2, grid_size*self.scale, grid_size*self.scale, 3))\n",
    "        \n",
    "    def get_t(self):\n",
    "        return self.t\n",
    "    \n",
    "    def draw(self,e):\n",
    "        skvideo.io.vwrite(str(e) + '.mp4', self.to_draw)\n",
    "\n",
    "    def get_frame(self,t):\n",
    "        b = np.zeros((self.grid_size,self.grid_size,3))+128\n",
    "        b[self.board>0,0] = 256\n",
    "        b[self.board < 0, 2] = 256\n",
    "        b[self.x,self.y,:]=256\n",
    "        b[-2:,:,:]=0\n",
    "        b[:,-2:,:]=0\n",
    "        b[:2,:,:]=0\n",
    "        b[:,:2,:]=0\n",
    "        \n",
    "        b =  cv2.resize(b, None, fx=self.scale, fy=self.scale, interpolation=cv2.INTER_NEAREST)\n",
    "\n",
    "        self.to_draw[t,:,:,:]=b\n",
    "             \n",
    "        \n",
    "    def act(self, action, train=True):\n",
    "        \"\"\"This function returns the new state, reward and decides if the\n",
    "        game ends.\"\"\"\n",
    "\n",
    "        self.get_frame(int(self.t))\n",
    "\n",
    "        self.position = np.zeros((self.grid_size, self.grid_size))\n",
    "\n",
    "        self.position[0:2,:]= -1\n",
    "        self.position[:,0:2] = -1\n",
    "        self.position[-2:, :] = -1\n",
    "        self.position[:, -2:] = -1\n",
    "\n",
    "        self.position[self.x, self.y] = 1\n",
    "        \n",
    "        if action == 0:\n",
    "            if self.x == self.grid_size-3:\n",
    "                self.x = self.x-1\n",
    "            else:\n",
    "                self.x = self.x + 1\n",
    "        elif action == 1:\n",
    "            if self.x == 2:\n",
    "                self.x = self.x+1\n",
    "            else:\n",
    "                self.x = self.x-1\n",
    "        elif action == 2:\n",
    "            if self.y == self.grid_size - 3:\n",
    "                self.y = self.y - 1\n",
    "            else:\n",
    "                self.y = self.y + 1\n",
    "        elif action == 3:\n",
    "            if self.y == 2:\n",
    "                self.y = self.y + 1\n",
    "            else:\n",
    "                self.y = self.y - 1\n",
    "        else:\n",
    "            RuntimeError('Error: action not recognized')\n",
    "        \n",
    "        self.t = self.t + 1\n",
    "        \n",
    "        ## In Environment exploring:\n",
    "        # You will have to change n_state to 3 because you will use one more layer!\n",
    "        reward = 0\n",
    "        if train:\n",
    "            reward -= self.malus_position[self.x, self.y]\n",
    "\n",
    "        self.malus_position[self.x, self.y] = 0.01\n",
    "        reward = reward + self.board[self.x, self.y]\n",
    "        self.board[self.x, self.y] = 0\n",
    "        game_over = self.t > self.max_time\n",
    "\n",
    "        # 3 \"feature\" states instead of 2\n",
    "        state = np.concatenate((self.malus_position.reshape(self.grid_size, self.grid_size,1),\n",
    "                                self.board.reshape(self.grid_size, self.grid_size,1),\n",
    "                                self.position.reshape(self.grid_size, self.grid_size,1)),axis=2)\n",
    "        \n",
    "        state = state[self.x-2:self.x+3,self.y-2:self.y+3,:]\n",
    "        \n",
    "        return state, reward, game_over\n",
    "    \n",
    "    \n",
    "    def reset(self):\n",
    "        \"\"\"This function resets the game and returns the initial state\"\"\"\n",
    "\n",
    "        self.x = np.random.randint(3, self.grid_size-3, size=1)[0]\n",
    "        self.y = np.random.randint(3, self.grid_size-3, size=1)[0]\n",
    "\n",
    "\n",
    "        bonus = 0.5*np.random.binomial(1,self.temperature,size=self.grid_size**2)\n",
    "        bonus = bonus.reshape(self.grid_size,self.grid_size)\n",
    "\n",
    "        malus = -1.0*np.random.binomial(1,self.temperature,size=self.grid_size**2)\n",
    "        malus = malus.reshape(self.grid_size, self.grid_size)\n",
    "\n",
    "        self.to_draw = np.zeros((self.max_time+2, self.grid_size*self.scale, self.grid_size*self.scale, 3))\n",
    "\n",
    "\n",
    "        malus[bonus>0]=0\n",
    "\n",
    "        self.board = bonus + malus\n",
    "\n",
    "        self.position = np.zeros((self.grid_size, self.grid_size))\n",
    "        self.position[0:2,:]= -1\n",
    "        self.position[:,0:2] = -1\n",
    "        self.position[-2:, :] = -1\n",
    "        self.position[:, -2:] = -1\n",
    "        self.board[self.x,self.y] = 0\n",
    "       \n",
    "        self.malus_position[self.x, self.y] = 0\n",
    "\n",
    "        self.t = 0\n",
    "\n",
    "        state = np.concatenate((self.malus_position.reshape(self.grid_size, self.grid_size,1),\n",
    "                                self.board.reshape(self.grid_size, self.grid_size,1),\n",
    "                                self.position.reshape(self.grid_size, self.grid_size,1)),axis=2)\n",
    "\n",
    "        state = state[self.x - 2:self.x + 3, self.y - 2:self.y + 3, :]\n",
    "        \n",
    "        return state"
   ]
  },
  {
   "cell_type": "code",
   "execution_count": 53,
   "metadata": {},
   "outputs": [
    {
     "name": "stdout",
     "output_type": "stream",
     "text": [
      "Epoch 000/020 | Loss 0.0137 | Win/lose count 5.0/12.579999999999966 (-7.579999999999966)\n",
      "Epoch 001/020 | Loss 0.0103 | Win/lose count 4.450000000000001/5.839999999999982 (-1.389999999999981)\n",
      "Epoch 002/020 | Loss 0.0757 | Win/lose count 10.43/6.599999999999973 (3.8300000000000267)\n",
      "Epoch 003/020 | Loss 0.1518 | Win/lose count 9.92/3.699999999999985 (6.220000000000015)\n",
      "Epoch 004/020 | Loss 0.1982 | Win/lose count 14.810000000000004/1.6400000000000012 (13.170000000000003)\n",
      "Epoch 005/020 | Loss 0.2044 | Win/lose count 10.320000000000002/1.7700000000000014 (8.55)\n",
      "Epoch 006/020 | Loss 0.1337 | Win/lose count 7.350000000000002/1.8500000000000014 (5.500000000000001)\n",
      "Epoch 007/020 | Loss 0.2264 | Win/lose count 10.780000000000003/2.7799999999999985 (8.000000000000004)\n",
      "Epoch 008/020 | Loss 0.3012 | Win/lose count 21.18999999999999/2.529999999999989 (18.66)\n",
      "Epoch 009/020 | Loss 0.6020 | Win/lose count 14.220000000000004/1.7000000000000013 (12.520000000000003)\n",
      "Epoch 010/020 | Loss 0.2880 | Win/lose count 20.09999999999999/3.579999999999982 (16.52000000000001)\n",
      "Epoch 011/020 | Loss 0.2588 | Win/lose count 14.700000000000005/1.7100000000000013 (12.990000000000004)\n",
      "Epoch 012/020 | Loss 0.1679 | Win/lose count 6.860000000000002/4.869999999999962 (1.9900000000000402)\n",
      "Epoch 013/020 | Loss 0.3696 | Win/lose count 19.159999999999993/4.549999999999969 (14.610000000000024)\n",
      "Epoch 014/020 | Loss 0.2007 | Win/lose count 20.57999999999999/1.5900000000000012 (18.98999999999999)\n",
      "Epoch 015/020 | Loss 0.3470 | Win/lose count 22.059999999999985/3.529999999999972 (18.530000000000012)\n",
      "Epoch 016/020 | Loss 0.6800 | Win/lose count 6.370000000000002/1.8700000000000014 (4.5)\n",
      "Epoch 017/020 | Loss 0.4488 | Win/lose count 12.250000000000004/3.749999999999986 (8.500000000000018)\n",
      "Epoch 018/020 | Loss 0.1990 | Win/lose count 18.639999999999997/2.6299999999999875 (16.01000000000001)\n",
      "Epoch 019/020 | Loss 0.3002 | Win/lose count 17.64/3.6399999999999757 (14.000000000000025)\n",
      "Final score: 9.706000000000014\n"
     ]
    }
   ],
   "source": [
    "# Training\n",
    "env = EnvironmentExploring(grid_size=size, max_time=T, temperature=0.3)\n",
    "agent = DQN_CNN(lr=.1, grid_size=size,  epsilon = 1, memory_size=16000, batch_size = 32,n_state=3)\n",
    "train_explore(agent, env, epochs_train, prefix='cnn_train_explore')"
   ]
  },
  {
   "cell_type": "code",
   "execution_count": 57,
   "metadata": {},
   "outputs": [
    {
     "data": {
      "text/html": [
       "<video alt=\"test\" controls>\n",
       "                <source src=\"data:video/mp4;base64,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\" type=\"video/mp4\" />\n",
       "             </video>"
      ],
      "text/plain": [
       "<IPython.core.display.HTML object>"
      ]
     },
     "execution_count": 57,
     "metadata": {},
     "output_type": "execute_result"
    }
   ],
   "source": [
    "HTML(display_videos('cnn_train_explore14.mp4'))"
   ]
  },
  {
   "cell_type": "code",
   "execution_count": 55,
   "metadata": {},
   "outputs": [
    {
     "name": "stdout",
     "output_type": "stream",
     "text": [
      "Win/lose count 13.230000000000004/1.7400000000000013. Average score (11.490000000000002)\n",
      "Win/lose count 9.310000000000002/1.8200000000000014. Average score (9.490000000000002)\n",
      "Win/lose count 5.880000000000002/2.8899999999999815. Average score (7.323333333333341)\n",
      "Win/lose count 7.360000000000002/2.8599999999999826. Average score (6.617500000000011)\n",
      "Win/lose count 6.870000000000002/1.8700000000000014. Average score (6.294000000000009)\n",
      "Win/lose count 4.900000000000001/1.9000000000000015. Average score (5.745000000000008)\n",
      "Win/lose count 13.240000000000004/2.739999999999985. Average score (6.424285714285723)\n",
      "Win/lose count 8.830000000000002/1.8300000000000014. Average score (6.496250000000009)\n",
      "Win/lose count 16.69/4.669999999999968. Average score (7.110000000000011)\n",
      "Win/lose count 8.820000000000002/3.8099999999999627. Average score (6.900000000000015)\n",
      "Win/lose count 16.660000000000004/2.669999999999986. Average score (7.544545454545468)\n",
      "Win/lose count 7.350000000000002/2.8499999999999828. Average score (7.290833333333349)\n",
      "Win/lose count 15.690000000000005/1.6800000000000013. Average score (7.807692307692321)\n",
      "Win/lose count 15.680000000000005/4.679999999999966. Average score (8.0357142857143)\n",
      "Win/lose count 7.8400000000000025/2.8499999999999828. Average score (7.832666666666682)\n",
      "Win/lose count 8.820000000000002/1.8300000000000014. Average score (7.780000000000015)\n",
      "Win/lose count 15.700000000000005/3.6899999999999675. Average score (8.028823529411781)\n",
      "Win/lose count 3.920000000000001/1.9300000000000015. Average score (7.6933333333333485)\n",
      "Win/lose count 5.400000000000001/4.89999999999996. Average score (7.3147368421052805)\n",
      "Win/lose count 14.220000000000004/2.719999999999985. Average score (7.524000000000017)\n",
      "Final score: 7.524000000000017\n"
     ]
    }
   ],
   "source": [
    "# Evaluation\n",
    "test(agent,env,epochs_test,prefix='cnn_test_explore')\n"
   ]
  },
  {
   "cell_type": "code",
   "execution_count": 58,
   "metadata": {},
   "outputs": [
    {
     "data": {
      "text/html": [
       "<video alt=\"test\" controls>\n",
       "                <source src=\"data:video/mp4;base64,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\" type=\"video/mp4\" />\n",
       "             </video>"
      ],
      "text/plain": [
       "<IPython.core.display.HTML object>"
      ]
     },
     "execution_count": 58,
     "metadata": {},
     "output_type": "execute_result"
    }
   ],
   "source": [
    "HTML(display_videos('cnn_test_explore10.mp4'))"
   ]
  },
  {
   "cell_type": "markdown",
   "metadata": {},
   "source": [
    "***\n",
    "***\n",
    "__BONUS question__ Use the expert DQN from the previous question to generate some winning games. Train a model that mimicks its behavior. Compare the performances."
   ]
  },
  {
   "cell_type": "markdown",
   "metadata": {},
   "source": []
  },
  {
   "cell_type": "markdown",
   "metadata": {},
   "source": [
    "***"
   ]
  }
 ],
 "metadata": {
  "kernelspec": {
   "display_name": "Python 3",
   "language": "python",
   "name": "python3"
  },
  "language_info": {
   "codemirror_mode": {
    "name": "ipython",
    "version": 3
   },
   "file_extension": ".py",
   "mimetype": "text/x-python",
   "name": "python",
   "nbconvert_exporter": "python",
   "pygments_lexer": "ipython3",
   "version": "3.6.5"
  }
 },
 "nbformat": 4,
 "nbformat_minor": 2
}
